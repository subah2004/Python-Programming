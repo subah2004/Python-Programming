{
  "nbformat": 4,
  "nbformat_minor": 0,
  "metadata": {
    "colab": {
      "provenance": []
    },
    "kernelspec": {
      "name": "python3",
      "display_name": "Python 3"
    },
    "language_info": {
      "name": "python"
    }
  },
  "cells": [
    {
      "cell_type": "code",
      "source": [
        "userid=int(input(\"Enter your userid:\"))\n",
        "print(userid)"
      ],
      "metadata": {
        "colab": {
          "base_uri": "https://localhost:8080/"
        },
        "id": "TZRRoYICKHaK",
        "outputId": "b2abd70e-c9bf-4ed7-c4f9-10f252084fcd"
      },
      "execution_count": null,
      "outputs": [
        {
          "output_type": "stream",
          "name": "stdout",
          "text": [
            "Enter your userid:123\n",
            "123\n"
          ]
        }
      ]
    },
    {
      "cell_type": "code",
      "source": [
        "print(type(userid))"
      ],
      "metadata": {
        "colab": {
          "base_uri": "https://localhost:8080/"
        },
        "id": "KNzaFwFvMw24",
        "outputId": "bba7363c-f937-4b81-8639-81f7c4627529"
      },
      "execution_count": null,
      "outputs": [
        {
          "output_type": "stream",
          "name": "stdout",
          "text": [
            "<class 'int'>\n"
          ]
        }
      ]
    },
    {
      "cell_type": "code",
      "source": [
        "us=(input(\"Enter your userid:\"))\n"
      ],
      "metadata": {
        "colab": {
          "base_uri": "https://localhost:8080/"
        },
        "outputId": "9c7d73fa-da63-4b91-9e58-4a149352cd70",
        "id": "JCyUr76tPGKh"
      },
      "execution_count": null,
      "outputs": [
        {
          "name": "stdout",
          "output_type": "stream",
          "text": [
            "Enter your userid:6776686\n"
          ]
        }
      ]
    },
    {
      "cell_type": "code",
      "source": [
        "a=int(input(\"age:\"))\n",
        "print(type(a))"
      ],
      "metadata": {
        "colab": {
          "base_uri": "https://localhost:8080/"
        },
        "id": "dPRvn6icQz2G",
        "outputId": "47cdec37-254c-428c-8237-ffb206d4a144"
      },
      "execution_count": null,
      "outputs": [
        {
          "output_type": "stream",
          "name": "stdout",
          "text": [
            "age:18\n",
            "<class 'int'>\n"
          ]
        }
      ]
    },
    {
      "cell_type": "code",
      "source": [
        "name=\"subah\"\n",
        "age=\"18\"\n",
        "print(name,age ,sep=\",\",end=\"$$\")\n",
        "print(\"Hello world, this is python class.\")"
      ],
      "metadata": {
        "colab": {
          "base_uri": "https://localhost:8080/"
        },
        "id": "DJqi9oPyShrQ",
        "outputId": "4124ad40-7c15-4e5a-889e-cbd11bd6e78e"
      },
      "execution_count": null,
      "outputs": [
        {
          "output_type": "stream",
          "name": "stdout",
          "text": [
            "subah,18$$Hello world, this is python class.\n"
          ]
        }
      ]
    },
    {
      "cell_type": "code",
      "source": [
        "yup=20.22\n",
        "print(type(yup))"
      ],
      "metadata": {
        "colab": {
          "base_uri": "https://localhost:8080/"
        },
        "id": "ZaCs1yATUxNw",
        "outputId": "b4d420c7-8bab-46ab-e7b9-f7902b1997b7"
      },
      "execution_count": null,
      "outputs": [
        {
          "output_type": "stream",
          "name": "stdout",
          "text": [
            "<class 'float'>\n"
          ]
        }
      ]
    },
    {
      "cell_type": "code",
      "source": [
        "lst_var=['delhi','punjab','himachal pradesh']\n",
        "print(type(lst_var))"
      ],
      "metadata": {
        "colab": {
          "base_uri": "https://localhost:8080/"
        },
        "id": "_wlyl_G4aXLg",
        "outputId": "239e7c3d-7713-4704-d30e-2f6f814bf9c9"
      },
      "execution_count": null,
      "outputs": [
        {
          "output_type": "stream",
          "name": "stdout",
          "text": [
            "<class 'list'>\n"
          ]
        }
      ]
    },
    {
      "cell_type": "code",
      "source": [],
      "metadata": {
        "id": "kErU5-7Yb8JY"
      },
      "execution_count": null,
      "outputs": []
    }
  ]
}